{
 "cells": [
  {
   "cell_type": "code",
   "execution_count": 2,
   "metadata": {
    "collapsed": false,
    "deletable": true,
    "editable": true
   },
   "outputs": [],
   "source": [
    "import sevenbridges as sbg\n",
    "import json\n",
    "import yaml\n",
    "\n",
    "dev_token = '4147008b4f64471c9c5bb7ece0cc85b3'\n",
    "api = sbg.Api(url=\"http://dream-challenge-vayu.sbgenomics.com:27444/v2\", token=dev_token)\n",
    "p_id = 'sbgstaff/gdc-dna-seq'\n",
    "p = api.projects.get(api=api, id=p_id)\n",
    "\n",
    "\n"
   ]
  },
  {
   "cell_type": "code",
   "execution_count": 1,
   "metadata": {
    "collapsed": true
   },
   "outputs": [],
   "source": [
    "import sevenbridges as sbg\n",
    "import json\n",
    "import yaml\n",
    "\n",
    "dev_token = '3c71d55b7ec1401f81c46d4926483663'\n",
    "api = sbg.Api(url=\"http://dream-deploy1-vayu.sbgenomics.com:27444/v2\", token=dev_token)\n",
    "p_id = 'sbgstaff/gdc-ga4gh'\n",
    "p = api.projects.get(id=p_id)"
   ]
  },
  {
   "cell_type": "code",
   "execution_count": 2,
   "metadata": {
    "collapsed": false
   },
   "outputs": [],
   "source": [
    "import sevenbridges as sbg\n",
    "import json\n",
    "import yaml\n",
    "\n",
    "dev_token = '4374b301508344a9a2145f0468c2930e'\n",
    "api = sbg.Api(url=\"http://bunny-vayu.sbgenomics.com:27444/v2\", token=dev_token)\n",
    "p_id = 'sbgstaff/gdc-ga4gh'\n",
    "p = api.projects.get(id=p_id)"
   ]
  },
  {
   "cell_type": "code",
   "execution_count": 17,
   "metadata": {
    "collapsed": true
   },
   "outputs": [],
   "source": [
    "import sevenbridges as sbg\n",
    "import json\n",
    "import yaml\n",
    "\n",
    "dev_token = 'ec7154bcb7984fdb8a12ad5d60dd51f7'\n",
    "api = sbg.Api(url=\"https://staging-api.sbgenomics.com/v2\", token=dev_token)\n",
    "p_id = 'bogdang/gdc-ga4gh'\n",
    "p = api.projects.get(id=p_id)"
   ]
  },
  {
   "cell_type": "code",
   "execution_count": 9,
   "metadata": {
    "collapsed": false
   },
   "outputs": [],
   "source": [
    "import sevenbridges as sbg\n",
    "import json\n",
    "import yaml\n",
    "\n",
    "dev_token = '111ae5eec0354d719a0e126902e4e297'\n",
    "api = sbg.Api(url=\"https://cgc-api.sbgenomics.com/v2\", token=dev_token)\n",
    "p_id = 'bogdang/gdc-kids-first'\n",
    "p = api.projects.get(id=p_id)"
   ]
  },
  {
   "cell_type": "code",
   "execution_count": 1,
   "metadata": {
    "collapsed": true
   },
   "outputs": [],
   "source": [
    "import sevenbridges as sbg\n",
    "import json\n",
    "import yaml\n",
    "\n",
    "dev_token = '91ceb78f1e6a4092a356bbe027559e0a'\n",
    "api = sbg.Api(url=\"https://cavatica-api.sbgenomics.com/v2\", token=dev_token)\n",
    "p_id = 'bogdang/gdc-ga4gh'\n",
    "p = api.projects.get(id=p_id)"
   ]
  },
  {
   "cell_type": "code",
   "execution_count": 3,
   "metadata": {
    "collapsed": true
   },
   "outputs": [],
   "source": [
    "def get_file_by_name(project_id, filename):\n",
    "    return api.files.query(limit = 100, project = project_id, names = [filename])[0].id\n",
    "\n",
    "def sbpla_path(filename):\n",
    "    return 'mnt/nosbgfs/Project/77c39d4b-61a9-48f4-a5b4-0657ff6977e4/' + filename"
   ]
  },
  {
   "cell_type": "code",
   "execution_count": 5,
   "metadata": {
    "collapsed": false,
    "deletable": true,
    "editable": true
   },
   "outputs": [],
   "source": [
    "with open('workflows/alignment/transform.json') as f: \n",
    "    raw_app = f.read()\n",
    "raw_app = json.loads(raw_app)\n",
    "#raw_app = yaml.load(raw_app)"
   ]
  },
  {
   "cell_type": "code",
   "execution_count": 11,
   "metadata": {
    "collapsed": true
   },
   "outputs": [],
   "source": [
    "raw_app['hints'].append({\"class\": \"sbg:AWSInstanceType\", \"value\": \"r3.8xlarge\"})"
   ]
  },
  {
   "cell_type": "code",
   "execution_count": 12,
   "metadata": {
    "collapsed": false
   },
   "outputs": [
    {
     "ename": "Conflict",
     "evalue": "Requested app/revision already exists.",
     "output_type": "error",
     "traceback": [
      "\u001b[0;31m---------------------------------------------------------------------------\u001b[0m",
      "\u001b[0;31mConflict\u001b[0m                                  Traceback (most recent call last)",
      "\u001b[0;32m<ipython-input-12-00c8de896392>\u001b[0m in \u001b[0;36m<module>\u001b[0;34m()\u001b[0m\n\u001b[1;32m      1\u001b[0m \u001b[0;31m# Install wf\u001b[0m\u001b[0;34m\u001b[0m\u001b[0;34m\u001b[0m\u001b[0m\n\u001b[0;32m----> 2\u001b[0;31m \u001b[0mwf\u001b[0m \u001b[0;34m=\u001b[0m \u001b[0mapi\u001b[0m\u001b[0;34m.\u001b[0m\u001b[0mapps\u001b[0m\u001b[0;34m.\u001b[0m\u001b[0minstall_app\u001b[0m\u001b[0;34m(\u001b[0m\u001b[0mid\u001b[0m \u001b[0;34m=\u001b[0m \u001b[0mp_id\u001b[0m \u001b[0;34m+\u001b[0m \u001b[0;34m'/gdc-transform-cwl-optimized'\u001b[0m\u001b[0;34m,\u001b[0m  \u001b[0mraw\u001b[0m \u001b[0;34m=\u001b[0m \u001b[0mraw_app\u001b[0m\u001b[0;34m)\u001b[0m\u001b[0;34m\u001b[0m\u001b[0m\n\u001b[0m",
      "\u001b[0;32m/Users/bgavrilovic/miniconda3/lib/python3.5/site-packages/sevenbridges/models/app.py\u001b[0m in \u001b[0;36minstall_app\u001b[0;34m(cls, id, raw, api)\u001b[0m\n\u001b[1;32m    110\u001b[0m         }}\n\u001b[1;32m    111\u001b[0m         \u001b[0mlogger\u001b[0m\u001b[0;34m.\u001b[0m\u001b[0minfo\u001b[0m\u001b[0;34m(\u001b[0m\u001b[0;34m'Installing app'\u001b[0m\u001b[0;34m,\u001b[0m \u001b[0mextra\u001b[0m\u001b[0;34m=\u001b[0m\u001b[0mextra\u001b[0m\u001b[0;34m)\u001b[0m\u001b[0;34m\u001b[0m\u001b[0m\n\u001b[0;32m--> 112\u001b[0;31m         \u001b[0mapp\u001b[0m \u001b[0;34m=\u001b[0m \u001b[0mapi\u001b[0m\u001b[0;34m.\u001b[0m\u001b[0mpost\u001b[0m\u001b[0;34m(\u001b[0m\u001b[0murl\u001b[0m\u001b[0;34m=\u001b[0m\u001b[0mcls\u001b[0m\u001b[0;34m.\u001b[0m\u001b[0m_URL\u001b[0m\u001b[0;34m[\u001b[0m\u001b[0;34m'raw'\u001b[0m\u001b[0;34m]\u001b[0m\u001b[0;34m.\u001b[0m\u001b[0mformat\u001b[0m\u001b[0;34m(\u001b[0m\u001b[0mid\u001b[0m\u001b[0;34m=\u001b[0m\u001b[0mid\u001b[0m\u001b[0;34m)\u001b[0m\u001b[0;34m,\u001b[0m \u001b[0mdata\u001b[0m\u001b[0;34m=\u001b[0m\u001b[0mraw\u001b[0m\u001b[0;34m)\u001b[0m\u001b[0;34m.\u001b[0m\u001b[0mjson\u001b[0m\u001b[0;34m(\u001b[0m\u001b[0;34m)\u001b[0m\u001b[0;34m\u001b[0m\u001b[0m\n\u001b[0m\u001b[1;32m    113\u001b[0m         app_wrapper = api.get(url=cls._URL['get'].format(\n\u001b[1;32m    114\u001b[0m             id=app['sbg:id'])).json()\n",
      "\u001b[0;32m/Users/bgavrilovic/miniconda3/lib/python3.5/site-packages/sevenbridges/http/client.py\u001b[0m in \u001b[0;36mpost\u001b[0;34m(self, url, headers, params, data, append_base)\u001b[0m\n\u001b[1;32m    223\u001b[0m              append_base=True):\n\u001b[1;32m    224\u001b[0m         return self._request('POST', url=url, headers=headers, params=params,\n\u001b[0;32m--> 225\u001b[0;31m                              data=data, append_base=append_base)\n\u001b[0m\u001b[1;32m    226\u001b[0m \u001b[0;34m\u001b[0m\u001b[0m\n\u001b[1;32m    227\u001b[0m     \u001b[0;32mdef\u001b[0m \u001b[0mput\u001b[0m\u001b[0;34m(\u001b[0m\u001b[0mself\u001b[0m\u001b[0;34m,\u001b[0m \u001b[0murl\u001b[0m\u001b[0;34m,\u001b[0m \u001b[0mheaders\u001b[0m\u001b[0;34m=\u001b[0m\u001b[0;32mNone\u001b[0m\u001b[0;34m,\u001b[0m \u001b[0mparams\u001b[0m\u001b[0;34m=\u001b[0m\u001b[0;32mNone\u001b[0m\u001b[0;34m,\u001b[0m \u001b[0mdata\u001b[0m\u001b[0;34m=\u001b[0m\u001b[0;32mNone\u001b[0m\u001b[0;34m,\u001b[0m \u001b[0mappend_base\u001b[0m\u001b[0;34m=\u001b[0m\u001b[0;32mTrue\u001b[0m\u001b[0;34m)\u001b[0m\u001b[0;34m:\u001b[0m\u001b[0;34m\u001b[0m\u001b[0m\n",
      "\u001b[0;32m/Users/bgavrilovic/miniconda3/lib/python3.5/site-packages/sevenbridges/decorators.py\u001b[0m in \u001b[0;36mwrapper\u001b[0;34m(*args, **kwargs)\u001b[0m\n\u001b[1;32m    132\u001b[0m             \u001b[0;32mif\u001b[0m \u001b[0;34m'more_info'\u001b[0m \u001b[0;32min\u001b[0m \u001b[0mdata\u001b[0m\u001b[0;34m:\u001b[0m\u001b[0;34m\u001b[0m\u001b[0m\n\u001b[1;32m    133\u001b[0m                 \u001b[0me\u001b[0m\u001b[0;34m.\u001b[0m\u001b[0mmore_info\u001b[0m \u001b[0;34m=\u001b[0m \u001b[0mdata\u001b[0m\u001b[0;34m[\u001b[0m\u001b[0;34m'more_info'\u001b[0m\u001b[0;34m]\u001b[0m\u001b[0;34m\u001b[0m\u001b[0m\n\u001b[0;32m--> 134\u001b[0;31m             \u001b[0;32mraise\u001b[0m \u001b[0me\u001b[0m\u001b[0;34m\u001b[0m\u001b[0m\n\u001b[0m\u001b[1;32m    135\u001b[0m         \u001b[0;32mexcept\u001b[0m \u001b[0mrequests\u001b[0m\u001b[0;34m.\u001b[0m\u001b[0mRequestException\u001b[0m \u001b[0;32mas\u001b[0m \u001b[0me\u001b[0m\u001b[0;34m:\u001b[0m\u001b[0;34m\u001b[0m\u001b[0m\n\u001b[1;32m    136\u001b[0m             \u001b[0;32mraise\u001b[0m \u001b[0mSbgError\u001b[0m\u001b[0;34m(\u001b[0m\u001b[0mmessage\u001b[0m\u001b[0;34m=\u001b[0m\u001b[0msix\u001b[0m\u001b[0;34m.\u001b[0m\u001b[0mtext_type\u001b[0m\u001b[0;34m(\u001b[0m\u001b[0me\u001b[0m\u001b[0;34m)\u001b[0m\u001b[0;34m)\u001b[0m\u001b[0;34m\u001b[0m\u001b[0m\n",
      "\u001b[0;31mConflict\u001b[0m: Requested app/revision already exists."
     ]
    }
   ],
   "source": [
    "# Install wf\n",
    "wf = api.apps.install_app(id = p_id + '/gdc-transform-cwl-optimized',  raw = raw_app)"
   ]
  },
  {
   "cell_type": "code",
   "execution_count": 15,
   "metadata": {
    "collapsed": false,
    "deletable": true,
    "editable": true
   },
   "outputs": [],
   "source": [
    "# Update wf\n",
    "wf = api.apps.get(p_id+'/gdc-transform-cwl-optimized')\n",
    "new_rev = str(wf.revision + 1)\n",
    "wf = wf.create_revision(id = wf.id, revision = new_rev, raw = raw_app)"
   ]
  },
  {
   "cell_type": "code",
   "execution_count": 4,
   "metadata": {
    "collapsed": false,
    "deletable": true,
    "editable": true
   },
   "outputs": [
    {
     "ename": "FileNotFoundError",
     "evalue": "[Errno 2] No such file or directory: 'examples.yaml'",
     "output_type": "error",
     "traceback": [
      "\u001b[0;31m---------------------------------------------------------------------------\u001b[0m",
      "\u001b[0;31mFileNotFoundError\u001b[0m                         Traceback (most recent call last)",
      "\u001b[0;32m<ipython-input-4-5aa0ebc54507>\u001b[0m in \u001b[0;36m<module>\u001b[0;34m()\u001b[0m\n\u001b[0;32m----> 1\u001b[0;31m \u001b[0;32mwith\u001b[0m \u001b[0mopen\u001b[0m\u001b[0;34m(\u001b[0m\u001b[0;34m'examples.yaml'\u001b[0m\u001b[0;34m)\u001b[0m \u001b[0;32mas\u001b[0m \u001b[0mf\u001b[0m\u001b[0;34m:\u001b[0m\u001b[0;34m\u001b[0m\u001b[0m\n\u001b[0m\u001b[1;32m      2\u001b[0m     \u001b[0minputs\u001b[0m \u001b[0;34m=\u001b[0m \u001b[0mf\u001b[0m\u001b[0;34m.\u001b[0m\u001b[0mread\u001b[0m\u001b[0;34m(\u001b[0m\u001b[0;34m)\u001b[0m\u001b[0;34m\u001b[0m\u001b[0m\n\u001b[1;32m      3\u001b[0m \u001b[0mwf_inputs\u001b[0m \u001b[0;34m=\u001b[0m \u001b[0myaml\u001b[0m\u001b[0;34m.\u001b[0m\u001b[0mload\u001b[0m\u001b[0;34m(\u001b[0m\u001b[0minputs\u001b[0m\u001b[0;34m)\u001b[0m\u001b[0;34m\u001b[0m\u001b[0m\n",
      "\u001b[0;31mFileNotFoundError\u001b[0m: [Errno 2] No such file or directory: 'examples.yaml'"
     ]
    }
   ],
   "source": [
    "with open('examples.yaml') as f: \n",
    "    inputs = f.read()\n",
    "wf_inputs = yaml.load(inputs)"
   ]
  },
  {
   "cell_type": "code",
   "execution_count": 16,
   "metadata": {
    "collapsed": false,
    "deletable": true,
    "editable": true
   },
   "outputs": [
    {
     "ename": "NameError",
     "evalue": "name 'wf_inputs' is not defined",
     "output_type": "error",
     "traceback": [
      "\u001b[0;31m---------------------------------------------------------------------------\u001b[0m",
      "\u001b[0;31mNameError\u001b[0m                                 Traceback (most recent call last)",
      "\u001b[0;32m<ipython-input-16-b2be828b1151>\u001b[0m in \u001b[0;36m<module>\u001b[0;34m()\u001b[0m\n\u001b[0;32m----> 1\u001b[0;31m \u001b[0mwf_inputs\u001b[0m\u001b[0;34m\u001b[0m\u001b[0m\n\u001b[0m",
      "\u001b[0;31mNameError\u001b[0m: name 'wf_inputs' is not defined"
     ]
    }
   ],
   "source": [
    "wf_inputs"
   ]
  },
  {
   "cell_type": "code",
   "execution_count": 43,
   "metadata": {
    "collapsed": false,
    "deletable": true,
    "editable": true
   },
   "outputs": [
    {
     "ename": "IndexError",
     "evalue": "list index out of range",
     "output_type": "error",
     "traceback": [
      "\u001b[0;31m---------------------------------------------------------------------------\u001b[0m",
      "\u001b[0;31mIndexError\u001b[0m                                Traceback (most recent call last)",
      "\u001b[0;32m<ipython-input-43-9ce32a0ea41c>\u001b[0m in \u001b[0;36m<module>\u001b[0;34m()\u001b[0m\n\u001b[1;32m      2\u001b[0m     \u001b[0;32mif\u001b[0m \u001b[0misinstance\u001b[0m\u001b[0;34m(\u001b[0m\u001b[0minp\u001b[0m\u001b[0;34m,\u001b[0m\u001b[0mdict\u001b[0m\u001b[0;34m)\u001b[0m\u001b[0;34m:\u001b[0m\u001b[0;34m\u001b[0m\u001b[0m\n\u001b[1;32m      3\u001b[0m         \u001b[0mfilename\u001b[0m \u001b[0;34m=\u001b[0m \u001b[0minp\u001b[0m\u001b[0;34m[\u001b[0m\u001b[0;34m\"path\"\u001b[0m\u001b[0;34m]\u001b[0m\u001b[0;34m[\u001b[0m\u001b[0minp\u001b[0m\u001b[0;34m[\u001b[0m\u001b[0;34m\"path\"\u001b[0m\u001b[0;34m]\u001b[0m\u001b[0;34m.\u001b[0m\u001b[0mrfind\u001b[0m\u001b[0;34m(\u001b[0m\u001b[0;34m'/'\u001b[0m\u001b[0;34m)\u001b[0m\u001b[0;34m+\u001b[0m\u001b[0;36m1\u001b[0m\u001b[0;34m:\u001b[0m\u001b[0;34m]\u001b[0m\u001b[0;34m\u001b[0m\u001b[0m\n\u001b[0;32m----> 4\u001b[0;31m         \u001b[0minputs\u001b[0m\u001b[0;34m[\u001b[0m\u001b[0min_id\u001b[0m\u001b[0;34m]\u001b[0m\u001b[0;34m[\u001b[0m\u001b[0;34m\"path\"\u001b[0m\u001b[0;34m]\u001b[0m \u001b[0;34m=\u001b[0m \u001b[0mget_file_by_name\u001b[0m\u001b[0;34m(\u001b[0m\u001b[0mp_id\u001b[0m\u001b[0;34m,\u001b[0m\u001b[0mfilename\u001b[0m\u001b[0;34m)\u001b[0m\u001b[0;34m\u001b[0m\u001b[0m\n\u001b[0m",
      "\u001b[0;32m<ipython-input-37-e75573bfecab>\u001b[0m in \u001b[0;36mget_file_by_name\u001b[0;34m(project_id, filename)\u001b[0m\n\u001b[1;32m     10\u001b[0m \u001b[0;34m\u001b[0m\u001b[0m\n\u001b[1;32m     11\u001b[0m \u001b[0;32mdef\u001b[0m \u001b[0mget_file_by_name\u001b[0m\u001b[0;34m(\u001b[0m\u001b[0mproject_id\u001b[0m\u001b[0;34m,\u001b[0m \u001b[0mfilename\u001b[0m\u001b[0;34m)\u001b[0m\u001b[0;34m:\u001b[0m\u001b[0;34m\u001b[0m\u001b[0m\n\u001b[0;32m---> 12\u001b[0;31m     \u001b[0;32mreturn\u001b[0m \u001b[0mapi\u001b[0m\u001b[0;34m.\u001b[0m\u001b[0mfiles\u001b[0m\u001b[0;34m.\u001b[0m\u001b[0mquery\u001b[0m\u001b[0;34m(\u001b[0m\u001b[0mlimit\u001b[0m \u001b[0;34m=\u001b[0m \u001b[0;36m100\u001b[0m\u001b[0;34m,\u001b[0m \u001b[0mproject\u001b[0m \u001b[0;34m=\u001b[0m \u001b[0mproject_id\u001b[0m\u001b[0;34m,\u001b[0m \u001b[0mnames\u001b[0m \u001b[0;34m=\u001b[0m \u001b[0;34m[\u001b[0m\u001b[0mfilename\u001b[0m\u001b[0;34m]\u001b[0m\u001b[0;34m)\u001b[0m\u001b[0;34m[\u001b[0m\u001b[0;36m0\u001b[0m\u001b[0;34m]\u001b[0m\u001b[0;34m.\u001b[0m\u001b[0mid\u001b[0m\u001b[0;34m\u001b[0m\u001b[0m\n\u001b[0m\u001b[1;32m     13\u001b[0m \u001b[0;34m\u001b[0m\u001b[0m\n\u001b[1;32m     14\u001b[0m \u001b[0;32mdef\u001b[0m \u001b[0msbpla_path\u001b[0m\u001b[0;34m(\u001b[0m\u001b[0mfilename\u001b[0m\u001b[0;34m)\u001b[0m\u001b[0;34m:\u001b[0m\u001b[0;34m\u001b[0m\u001b[0m\n",
      "\u001b[0;31mIndexError\u001b[0m: list index out of range"
     ]
    }
   ],
   "source": [
    "for in_id, inp in wf_inputs.items():\n",
    "    if isinstance(inp,dict):\n",
    "        filename = inp[\"path\"][inp[\"path\"].rfind('/')+1:]\n",
    "        inputs[in_id][\"path\"] = get_file_by_name(p_id,filename)"
   ]
  },
  {
   "cell_type": "code",
   "execution_count": 44,
   "metadata": {
    "collapsed": false,
    "deletable": true,
    "editable": true
   },
   "outputs": [],
   "source": [
    "gdc_wf_task = api.tasks.create(name='Bunny - GDC transform', project=p.id, \\\n",
    "               app = wf.id, inputs = {})"
   ]
  },
  {
   "cell_type": "code",
   "execution_count": 59,
   "metadata": {
    "collapsed": false,
    "deletable": true,
    "editable": true
   },
   "outputs": [
    {
     "data": {
      "text/plain": [
       "[{'input': 'reference_fasta_path',\n",
       "  'message': 'This input is required.',\n",
       "  'more_info': 'http://docs.sevenbridges.com/page/schema-error-standard-tasks',\n",
       "  'type': 'error/task_validation/input/schema'},\n",
       " {'input': 'bam_path',\n",
       "  'message': 'This input is required.',\n",
       "  'more_info': 'http://docs.sevenbridges.com/page/schema-error-standard-tasks',\n",
       "  'type': 'error/task_validation/input/schema'},\n",
       " {'input': 'db_snp_path',\n",
       "  'message': 'This input is required.',\n",
       "  'more_info': 'http://docs.sevenbridges.com/page/schema-error-standard-tasks',\n",
       "  'type': 'error/task_validation/input/schema'},\n",
       " {'input': 'thread_count',\n",
       "  'message': 'This input is required.',\n",
       "  'more_info': 'http://docs.sevenbridges.com/page/schema-error-standard-tasks',\n",
       "  'type': 'error/task_validation/input/schema'},\n",
       " {'input': 'uuid',\n",
       "  'message': 'This input is required.',\n",
       "  'more_info': 'http://docs.sevenbridges.com/page/schema-error-standard-tasks',\n",
       "  'type': 'error/task_validation/input/schema'}]"
      ]
     },
     "execution_count": 59,
     "metadata": {},
     "output_type": "execute_result"
    }
   ],
   "source": [
    "gdc_wf_task.errors"
   ]
  },
  {
   "cell_type": "code",
   "execution_count": 33,
   "metadata": {
    "collapsed": false
   },
   "outputs": [],
   "source": [
    "gdc_wf_task.run()"
   ]
  },
  {
   "cell_type": "code",
   "execution_count": null,
   "metadata": {
    "collapsed": true
   },
   "outputs": [],
   "source": []
  },
  {
   "cell_type": "code",
   "execution_count": 1,
   "metadata": {
    "collapsed": false,
    "deletable": true,
    "editable": true
   },
   "outputs": [],
   "source": [
    "import sevenbridges as sbg\n",
    "import json\n",
    "import yaml\n",
    "\n",
    "dev_token = '4147008b4f64471c9c5bb7ece0cc85b3'\n",
    "api = sbg.Api(url=\"http://dream-challenge-vayu.sbgenomics.com:27444/v2\", token=dev_token)\n",
    "p_id = 'sbgstaff/sbgstaff-s-demo-project'\n",
    "p = api.projects.get(api=api, id=p_id)\n",
    "\n",
    "\n",
    "def get_file_by_name(project_id, filename):\n",
    "    return api.files.query(limit = 100, project = project_id, names = [filename])[0].id\n",
    "\n",
    "def sbpla_path(filename):\n",
    "    return 'mnt/nosbgfs/Project/77c39d4b-61a9-48f4-a5b4-0657ff6977e4/' + filename"
   ]
  },
  {
   "cell_type": "code",
   "execution_count": 15,
   "metadata": {
    "collapsed": false,
    "deletable": true,
    "editable": true
   },
   "outputs": [],
   "source": [
    "with open('nulltestFile.json') as f: \n",
    "    raw_app = f.read()\n",
    "raw_app = json.loads(raw_app)\n",
    "#raw_app = yaml.load(raw_app)"
   ]
  },
  {
   "cell_type": "code",
   "execution_count": 16,
   "metadata": {
    "collapsed": false,
    "deletable": true,
    "editable": true
   },
   "outputs": [],
   "source": [
    "app = api.apps.install_app(id = 'sbgstaff/sbgstaff-s-demo-project/null-file',  raw = raw_app)"
   ]
  },
  {
   "cell_type": "code",
   "execution_count": 10,
   "metadata": {
    "collapsed": false
   },
   "outputs": [],
   "source": [
    "app = api.apps.get('sbgstaff/sbgstaff-s-demo-project/null-tool-file')"
   ]
  },
  {
   "cell_type": "code",
   "execution_count": 5,
   "metadata": {
    "collapsed": true
   },
   "outputs": [],
   "source": [
    "with open('null-in.cwl') as f: \n",
    "    raw_app = f.read()\n",
    "inputs = json.loads(raw_app)"
   ]
  },
  {
   "cell_type": "code",
   "execution_count": 23,
   "metadata": {
    "collapsed": false
   },
   "outputs": [],
   "source": [
    "task = api.tasks.create(name='[null, File]', project=app.project, app=app.id, inputs=inputs)"
   ]
  },
  {
   "cell_type": "code",
   "execution_count": 19,
   "metadata": {
    "collapsed": false
   },
   "outputs": [
    {
     "data": {
      "text/plain": [
       "<Task: id=0ba349bc-9d0c-4ef4-9bc2-e7f6ad24dc79>"
      ]
     },
     "execution_count": 19,
     "metadata": {},
     "output_type": "execute_result"
    }
   ],
   "source": [
    "task.run()"
   ]
  },
  {
   "cell_type": "code",
   "execution_count": null,
   "metadata": {
    "collapsed": false
   },
   "outputs": [],
   "source": []
  },
  {
   "cell_type": "code",
   "execution_count": null,
   "metadata": {
    "collapsed": false
   },
   "outputs": [],
   "source": []
  },
  {
   "cell_type": "code",
   "execution_count": null,
   "metadata": {
    "collapsed": true
   },
   "outputs": [],
   "source": []
  },
  {
   "cell_type": "code",
   "execution_count": null,
   "metadata": {
    "collapsed": true
   },
   "outputs": [],
   "source": []
  },
  {
   "cell_type": "code",
   "execution_count": 31,
   "metadata": {
    "collapsed": false
   },
   "outputs": [],
   "source": [
    "with open('workflows/alignment/mixed_library_metrics.cwl') as f: \n",
    "    raw_app = f.read()\n",
    "#raw_app = json.loads(raw_app)\n",
    "raw_app = yaml.load(raw_app)"
   ]
  },
  {
   "cell_type": "code",
   "execution_count": 32,
   "metadata": {
    "collapsed": false
   },
   "outputs": [],
   "source": [
    "#runs = set()\n",
    "for st in raw_app['steps']:\n",
    "    runs.add(st['run'])"
   ]
  },
  {
   "cell_type": "code",
   "execution_count": 34,
   "metadata": {
    "collapsed": false
   },
   "outputs": [
    {
     "name": "stdout",
     "output_type": "stream",
     "text": [
      "../../tools/samtools_stats.cwl\n",
      "../../tools/fastqc.cwl\n",
      "../../tools/bam_reheader.cwl\n",
      "../../tools/bwa_pe.cwl\n",
      "../../tools/bam_readgroup_to_json.cwl\n",
      "../../tools/picard_markduplicates.cwl\n",
      "../../tools/picard_collectoxogmetrics.cwl\n",
      "../../tools/md5sum.cwl\n",
      "../../tools/fastq_remove_duplicate_qname.cwl\n",
      "../../tools/fastqc_db.cwl\n",
      "../../tools/samtools_stats_to_sqlite.cwl\n",
      "../../tools/picard_collectmultiplemetrics.cwl\n",
      "../../tools/biobambam2_bamtofastq.cwl\n",
      "../../tools/samtools_idxstats_to_sqlite.cwl\n",
      "../../tools/readgroup_json_db.cwl\n",
      "../../tools/samtools_bamtobam.cwl\n",
      "../../tools/picard_sortsam.cwl\n",
      "../../tools/samtools_flagstat_to_sqlite.cwl\n",
      "../../tools/picard_validatesamfile_to_sqlite.cwl\n",
      "../../tools/picard_collectmultiplemetrics_to_sqlite.cwl\n",
      "../../tools/picard_collectwgsmetrics_to_sqlite.cwl\n",
      "../../tools/picard_markduplicates_to_sqlite.cwl\n",
      "../../tools/samtools_flagstat.cwl\n",
      "../../tools/samtools_idxstats.cwl\n",
      "../../tools/sha256sum.cwl\n",
      "../../tools/picard_validatesamfile.cwl\n",
      "../../tools/decider_bwa_expression.cwl\n",
      "../../tools/picard_collectoxogmetrics_to_sqlite.cwl\n",
      "../../tools/picard_mergesamfiles.cwl\n",
      "../../tools/integrity_to_sqlite.cwl\n",
      "../../tools/sort_scatter_expression.cwl\n",
      "../../tools/bwa_se.cwl\n",
      "../../tools/picard_collectwgsmetrics.cwl\n",
      "../../tools/merge_sqlite.cwl\n",
      "../../tools/fastqc_basicstatistics_json.cwl\n",
      "../../tools/ls_l.cwl\n"
     ]
    }
   ],
   "source": [
    "import shutil\n",
    "import os\n",
    "for f in runs:\n",
    "    if f.startswith('.'):\n",
    "        shutil.copyfile(f,f.split('/')[])"
   ]
  },
  {
   "cell_type": "code",
   "execution_count": null,
   "metadata": {
    "collapsed": true
   },
   "outputs": [],
   "source": []
  }
 ],
 "metadata": {
  "kernelspec": {
   "display_name": "Python 3",
   "language": "python",
   "name": "python3"
  },
  "language_info": {
   "codemirror_mode": {
    "name": "ipython",
    "version": 3
   },
   "file_extension": ".py",
   "mimetype": "text/x-python",
   "name": "python",
   "nbconvert_exporter": "python",
   "pygments_lexer": "ipython3",
   "version": "3.5.2"
  }
 },
 "nbformat": 4,
 "nbformat_minor": 2
}
